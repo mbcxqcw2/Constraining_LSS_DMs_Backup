{
 "cells": [
  {
   "cell_type": "code",
   "execution_count": 1,
   "id": "4bb6cea9",
   "metadata": {},
   "outputs": [],
   "source": [
    "import os\n",
    "import numpy as np"
   ]
  },
  {
   "cell_type": "code",
   "execution_count": 90,
   "id": "89889534",
   "metadata": {},
   "outputs": [
    {
     "name": "stdout",
     "output_type": "stream",
     "text": [
      "1001\n"
     ]
    }
   ],
   "source": [
    "#Choose snapshot\n",
    "snapshot_to_test = 40\n",
    "\n",
    "#choose simulation\n",
    "sim_to_test = 'TNG50-4'\n",
    "\n",
    "#Load a chunked version of the same dataset and assemble from /ptmp/\n",
    "chunkedfiles = os.listdir('/ptmp/cwalker/Illustris_FRB_Project/Sim_Matchlists/Matchlist_dir_{0}/'.format(sim_to_test))\n",
    "chunkedfiles = ['/ptmp/cwalker/Illustris_FRB_Project/Sim_Matchlists/Matchlist_dir_{0}/{1}'.format(sim_to_test,i) for i in chunkedfiles]\n",
    "chunkedfiles = sorted([i for i in chunkedfiles if 'ShIDList_Snap{0}'.format(snapshot_to_test) in i])\n",
    "#data = [np.load(i) for i in chunkedfiles]\n",
    "print(len(chunkedfiles))"
   ]
  },
  {
   "cell_type": "code",
   "execution_count": null,
   "id": "ffb34dbd",
   "metadata": {},
   "outputs": [],
   "source": []
  },
  {
   "cell_type": "code",
   "execution_count": null,
   "id": "8da3d0f4",
   "metadata": {},
   "outputs": [],
   "source": []
  }
 ],
 "metadata": {
  "kernelspec": {
   "display_name": "Python 3 (ipykernel)",
   "language": "python",
   "name": "python3"
  },
  "language_info": {
   "codemirror_mode": {
    "name": "ipython",
    "version": 3
   },
   "file_extension": ".py",
   "mimetype": "text/x-python",
   "name": "python",
   "nbconvert_exporter": "python",
   "pygments_lexer": "ipython3",
   "version": "3.7.6"
  }
 },
 "nbformat": 4,
 "nbformat_minor": 5
}
