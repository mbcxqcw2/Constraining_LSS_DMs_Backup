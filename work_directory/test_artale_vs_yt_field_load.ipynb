{
 "cells": [
  {
   "cell_type": "markdown",
   "id": "f5b2025d",
   "metadata": {},
   "source": [
    "# Notes"
   ]
  },
  {
   "cell_type": "markdown",
   "id": "dd522b1a",
   "metadata": {},
   "source": [
    "This notebook tests loading of TNG fields using yt vs using Celeste Artale's code to make sure they load the same values.\n",
    "\n",
    "This is in preparation to change our particle ID - subhalo ID matchlist creation code to accomodate larger simulations"
   ]
  },
  {
   "cell_type": "markdown",
   "id": "b050c879",
   "metadata": {},
   "source": [
    "# Imports"
   ]
  },
  {
   "cell_type": "code",
   "execution_count": 22,
   "id": "aef05fc4",
   "metadata": {},
   "outputs": [],
   "source": [
    "import matplotlib\n",
    "import pylab as plt\n",
    "import numpy as np\n",
    "#from matplotlib import pyplot as plt\n",
    "import yt\n",
    "import trident\n",
    "from trident import LightRay\n",
    "import illustris_python as il\n",
    "from astropy import units as u\n",
    "from astropy import constants as c\n",
    "from yt.utilities.cosmology import Cosmology\n",
    "#from matplotlib import pyplot as plt\n",
    "import sys\n",
    "import h5py\n",
    "#from artale_constants import *\n",
    "import os"
   ]
  },
  {
   "cell_type": "markdown",
   "id": "07d5e47d",
   "metadata": {},
   "source": [
    "# Functions"
   ]
  },
  {
   "cell_type": "code",
   "execution_count": null,
   "id": "70619834",
   "metadata": {},
   "outputs": [],
   "source": []
  },
  {
   "cell_type": "markdown",
   "id": "884b9c10",
   "metadata": {},
   "source": [
    "# Load snapshot with YT"
   ]
  },
  {
   "cell_type": "code",
   "execution_count": 29,
   "id": "9644d4b9",
   "metadata": {},
   "outputs": [
    {
     "name": "stderr",
     "output_type": "stream",
     "text": [
      "yt : [INFO     ] 2022-02-17 17:02:15,068 Calculating time from 1.000e+00 to be 4.356e+17 seconds\n",
      "yt : [INFO     ] 2022-02-17 17:02:15,151 Parameters: current_time              = 4.355810528213311e+17 s\n",
      "yt : [INFO     ] 2022-02-17 17:02:15,152 Parameters: domain_dimensions         = [1 1 1]\n",
      "yt : [INFO     ] 2022-02-17 17:02:15,154 Parameters: domain_left_edge          = [0. 0. 0.]\n",
      "yt : [INFO     ] 2022-02-17 17:02:15,155 Parameters: domain_right_edge         = [35000. 35000. 35000.]\n",
      "yt : [INFO     ] 2022-02-17 17:02:15,157 Parameters: cosmological_simulation   = 1\n",
      "yt : [INFO     ] 2022-02-17 17:02:15,159 Parameters: current_redshift          = 2.220446049250313e-16\n",
      "yt : [INFO     ] 2022-02-17 17:02:15,160 Parameters: omega_lambda              = 0.6911\n",
      "yt : [INFO     ] 2022-02-17 17:02:15,161 Parameters: omega_matter              = 0.3089\n",
      "yt : [INFO     ] 2022-02-17 17:02:15,162 Parameters: omega_radiation           = 0.0\n",
      "yt : [INFO     ] 2022-02-17 17:02:15,163 Parameters: hubble_constant           = 0.6774\n",
      "yt : [INFO     ] 2022-02-17 17:02:21,741 Allocating for 5.852e+07 particles\n",
      "Initializing coarse index :  99%|█████████████████████████████████████████████████████████████████████████████████████████████████████████████████████████████▍ | 79/80 [00:22<00:00,  3.52it/s]\n",
      "Initializing refined index:  99%|█████████████████████████████████████████████████████████████████████████████████████████████████████████████████████████████▍ | 79/80 [03:22<00:02,  2.57s/it]\n"
     ]
    },
    {
     "data": {
      "text/plain": [
       "<yt.frontends.sph.data_structures.SPHParticleIndex at 0x152c2b7fb0d0>"
      ]
     },
     "execution_count": 29,
     "metadata": {},
     "output_type": "execute_result"
    }
   ],
   "source": [
    "#load data with yt\n",
    "\n",
    "#simulation to create lists for\n",
    "snapshot_number=99\n",
    "sim_to_use = 'TNG50-4'\n",
    "base_path = '//virgo/simulations/IllustrisTNG/{0}/output/'.format(sim_to_use)\n",
    "data_loc = '{0}/snapdir_0{1}/snap_0{1}.0.hdf5'.format(base_path,snapshot_number)\n",
    "\n",
    "\n",
    "#load and index cell data\n",
    "ds=yt.load(data_loc)\n",
    "ds.index\n",
    "\n"
   ]
  },
  {
   "cell_type": "code",
   "execution_count": 49,
   "id": "0edd5bdb",
   "metadata": {},
   "outputs": [
    {
     "name": "stdout",
     "output_type": "stream",
     "text": [
      "18540104\n",
      "[       0        1        2 ... 18540101 18540102 18540103]\n",
      "(18540104,)\n"
     ]
    }
   ],
   "source": [
    "#the yt-dependent value going into the code\n",
    "\n",
    "to_ID = np.arange(ds.particle_type_counts['PartType0'])\n",
    "\n",
    "ds.particle_type_counts?\n",
    "print(ds.particle_type_counts['PartType0'])\n",
    "print(to_ID)\n",
    "ad=ds.all_data()\n",
    "print(ad['PartType0','Masses'].shape)\n",
    "\n"
   ]
  },
  {
   "cell_type": "markdown",
   "id": "6406b86b",
   "metadata": {},
   "source": [
    "# Load snapshot with Illustris/Artale"
   ]
  },
  {
   "cell_type": "code",
   "execution_count": 51,
   "id": "919571c2",
   "metadata": {},
   "outputs": [
    {
     "name": "stdout",
     "output_type": "stream",
     "text": [
      "14454722210\n"
     ]
    },
    {
     "ename": "KeyboardInterrupt",
     "evalue": "",
     "output_type": "error",
     "traceback": [
      "\u001b[0;31m---------------------------------------------------------------------------\u001b[0m",
      "\u001b[0;31mKeyboardInterrupt\u001b[0m                         Traceback (most recent call last)",
      "\u001b[0;32m/tmp/ipykernel_83905/1650545041.py\u001b[0m in \u001b[0;36m<module>\u001b[0;34m\u001b[0m\n\u001b[1;32m      5\u001b[0m \u001b[0;34m\u001b[0m\u001b[0m\n\u001b[1;32m      6\u001b[0m \u001b[0mprint\u001b[0m\u001b[0;34m(\u001b[0m\u001b[0mil\u001b[0m\u001b[0;34m.\u001b[0m\u001b[0msnapshot\u001b[0m\u001b[0;34m.\u001b[0m\u001b[0mloadSubset\u001b[0m\u001b[0;34m(\u001b[0m\u001b[0mbase_path\u001b[0m\u001b[0;34m,\u001b[0m\u001b[0;36m99\u001b[0m\u001b[0;34m,\u001b[0m\u001b[0;34m'gas'\u001b[0m\u001b[0;34m,\u001b[0m\u001b[0;34m'Density'\u001b[0m\u001b[0;34m)\u001b[0m\u001b[0;34m.\u001b[0m\u001b[0mshape\u001b[0m\u001b[0;34m[\u001b[0m\u001b[0;36m0\u001b[0m\u001b[0;34m]\u001b[0m\u001b[0;34m)\u001b[0m\u001b[0;34m\u001b[0m\u001b[0;34m\u001b[0m\u001b[0m\n\u001b[0;32m----> 7\u001b[0;31m \u001b[0mprint\u001b[0m\u001b[0;34m(\u001b[0m\u001b[0mnp\u001b[0m\u001b[0;34m.\u001b[0m\u001b[0marange\u001b[0m\u001b[0;34m(\u001b[0m\u001b[0mil\u001b[0m\u001b[0;34m.\u001b[0m\u001b[0msnapshot\u001b[0m\u001b[0;34m.\u001b[0m\u001b[0mloadSubset\u001b[0m\u001b[0;34m(\u001b[0m\u001b[0mbase_path\u001b[0m\u001b[0;34m,\u001b[0m\u001b[0;36m99\u001b[0m\u001b[0;34m,\u001b[0m\u001b[0;34m'gas'\u001b[0m\u001b[0;34m,\u001b[0m\u001b[0;34m'Density'\u001b[0m\u001b[0;34m)\u001b[0m\u001b[0;34m.\u001b[0m\u001b[0mshape\u001b[0m\u001b[0;34m[\u001b[0m\u001b[0;36m0\u001b[0m\u001b[0;34m]\u001b[0m\u001b[0;34m)\u001b[0m\u001b[0;34m)\u001b[0m\u001b[0;34m\u001b[0m\u001b[0;34m\u001b[0m\u001b[0m\n\u001b[0m",
      "\u001b[0;32m~/git_python_downloads/illustris_python/snapshot.py\u001b[0m in \u001b[0;36mloadSubset\u001b[0;34m(basePath, snapNum, partType, fields, subset, mdi, sq, float32)\u001b[0m\n\u001b[1;32m    130\u001b[0m             \u001b[0;31m# read data local to the current file\u001b[0m\u001b[0;34m\u001b[0m\u001b[0;34m\u001b[0m\u001b[0;34m\u001b[0m\u001b[0m\n\u001b[1;32m    131\u001b[0m             \u001b[0;32mif\u001b[0m \u001b[0mmdi\u001b[0m \u001b[0;32mis\u001b[0m \u001b[0;32mNone\u001b[0m \u001b[0;32mor\u001b[0m \u001b[0mmdi\u001b[0m\u001b[0;34m[\u001b[0m\u001b[0mi\u001b[0m\u001b[0;34m]\u001b[0m \u001b[0;32mis\u001b[0m \u001b[0;32mNone\u001b[0m\u001b[0;34m:\u001b[0m\u001b[0;34m\u001b[0m\u001b[0;34m\u001b[0m\u001b[0m\n\u001b[0;32m--> 132\u001b[0;31m                 \u001b[0mresult\u001b[0m\u001b[0;34m[\u001b[0m\u001b[0mfield\u001b[0m\u001b[0;34m]\u001b[0m\u001b[0;34m[\u001b[0m\u001b[0mwOffset\u001b[0m\u001b[0;34m:\u001b[0m\u001b[0mwOffset\u001b[0m\u001b[0;34m+\u001b[0m\u001b[0mnumToReadLocal\u001b[0m\u001b[0;34m]\u001b[0m \u001b[0;34m=\u001b[0m \u001b[0mf\u001b[0m\u001b[0;34m[\u001b[0m\u001b[0mgName\u001b[0m\u001b[0;34m]\u001b[0m\u001b[0;34m[\u001b[0m\u001b[0mfield\u001b[0m\u001b[0;34m]\u001b[0m\u001b[0;34m[\u001b[0m\u001b[0mfileOff\u001b[0m\u001b[0;34m:\u001b[0m\u001b[0mfileOff\u001b[0m\u001b[0;34m+\u001b[0m\u001b[0mnumToReadLocal\u001b[0m\u001b[0;34m]\u001b[0m\u001b[0;34m\u001b[0m\u001b[0;34m\u001b[0m\u001b[0m\n\u001b[0m\u001b[1;32m    133\u001b[0m             \u001b[0;32melse\u001b[0m\u001b[0;34m:\u001b[0m\u001b[0;34m\u001b[0m\u001b[0;34m\u001b[0m\u001b[0m\n\u001b[1;32m    134\u001b[0m                 \u001b[0mresult\u001b[0m\u001b[0;34m[\u001b[0m\u001b[0mfield\u001b[0m\u001b[0;34m]\u001b[0m\u001b[0;34m[\u001b[0m\u001b[0mwOffset\u001b[0m\u001b[0;34m:\u001b[0m\u001b[0mwOffset\u001b[0m\u001b[0;34m+\u001b[0m\u001b[0mnumToReadLocal\u001b[0m\u001b[0;34m]\u001b[0m \u001b[0;34m=\u001b[0m \u001b[0mf\u001b[0m\u001b[0;34m[\u001b[0m\u001b[0mgName\u001b[0m\u001b[0;34m]\u001b[0m\u001b[0;34m[\u001b[0m\u001b[0mfield\u001b[0m\u001b[0;34m]\u001b[0m\u001b[0;34m[\u001b[0m\u001b[0mfileOff\u001b[0m\u001b[0;34m:\u001b[0m\u001b[0mfileOff\u001b[0m\u001b[0;34m+\u001b[0m\u001b[0mnumToReadLocal\u001b[0m\u001b[0;34m,\u001b[0m \u001b[0mmdi\u001b[0m\u001b[0;34m[\u001b[0m\u001b[0mi\u001b[0m\u001b[0;34m]\u001b[0m\u001b[0;34m]\u001b[0m\u001b[0;34m\u001b[0m\u001b[0;34m\u001b[0m\u001b[0m\n",
      "\u001b[0;31mKeyboardInterrupt\u001b[0m: "
     ]
    }
   ],
   "source": [
    "sim_to_use = 'TNG300-1'\n",
    "base_path = '//virgo/simulations/IllustrisTNG/{0}/output/'.format(sim_to_use)\n",
    "\n",
    "\n",
    "to_ID = 14454722210\n",
    "print(il.snapshot.loadSubset(base_path,99,'gas','Density').shape[0])\n",
    "print(np.arange(il.snapshot.loadSubset(base_path,99,'gas','Density').shape[0]))"
   ]
  },
  {
   "cell_type": "code",
   "execution_count": 52,
   "id": "d5b1201e",
   "metadata": {},
   "outputs": [
    {
     "ename": "KeyboardInterrupt",
     "evalue": "",
     "output_type": "error",
     "traceback": [
      "\u001b[0;31m---------------------------------------------------------------------------\u001b[0m",
      "\u001b[0;31mKeyboardInterrupt\u001b[0m                         Traceback (most recent call last)",
      "\u001b[0;32m/tmp/ipykernel_83905/1446869526.py\u001b[0m in \u001b[0;36m<module>\u001b[0;34m\u001b[0m\n\u001b[0;32m----> 1\u001b[0;31m \u001b[0mnp\u001b[0m\u001b[0;34m.\u001b[0m\u001b[0marange\u001b[0m\u001b[0;34m(\u001b[0m\u001b[0;36m14454722210\u001b[0m\u001b[0;34m)\u001b[0m\u001b[0;34m\u001b[0m\u001b[0;34m\u001b[0m\u001b[0m\n\u001b[0m",
      "\u001b[0;31mKeyboardInterrupt\u001b[0m: "
     ]
    }
   ],
   "source": [
    "np.arange(14454722210)"
   ]
  },
  {
   "cell_type": "code",
   "execution_count": null,
   "id": "1439abd8",
   "metadata": {},
   "outputs": [],
   "source": []
  }
 ],
 "metadata": {
  "kernelspec": {
   "display_name": "Python 3 (ipykernel)",
   "language": "python",
   "name": "python3"
  },
  "language_info": {
   "codemirror_mode": {
    "name": "ipython",
    "version": 3
   },
   "file_extension": ".py",
   "mimetype": "text/x-python",
   "name": "python",
   "nbconvert_exporter": "python",
   "pygments_lexer": "ipython3",
   "version": "3.7.6"
  }
 },
 "nbformat": 4,
 "nbformat_minor": 5
}
