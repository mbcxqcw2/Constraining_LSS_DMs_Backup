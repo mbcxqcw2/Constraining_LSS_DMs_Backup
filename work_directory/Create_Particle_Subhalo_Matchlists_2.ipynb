{
 "cells": [
  {
   "cell_type": "markdown",
   "id": "41517649",
   "metadata": {},
   "source": [
    "# Notes"
   ]
  },
  {
   "cell_type": "markdown",
   "id": "c925d684",
   "metadata": {},
   "source": [
    "This notebook creates subhalo ID and particle ID lists for snapshots for IllustrisTNG simulations.\n",
    "\n",
    "These can be loaded and used for cross-matching for impact factors to galaxies.\n",
    "\n",
    "The code is adapted from: \n",
    "\n",
    "raven:/u/cwalker/Illustris_FRB_Project/Create_Particle-Subhalo_Matchlists.ipynb\n",
    "\n",
    "It builds on previous work by creating lists for any desired simulation."
   ]
  },
  {
   "cell_type": "markdown",
   "id": "c0af7fcd",
   "metadata": {},
   "source": [
    "# Imports"
   ]
  },
  {
   "cell_type": "code",
   "execution_count": 1,
   "id": "246d4a1e",
   "metadata": {},
   "outputs": [
    {
     "name": "stderr",
     "output_type": "stream",
     "text": [
      "/raven/u/cwalker/virtual_environments/yt-git/yt/utilities/logger.py:4: VisibleDeprecationWarning: The configuration file /u/cwalker/.config/yt/ytrc is deprecated in favor of /u/cwalker/.config/yt/yt.toml. Currently, both are present. Please manually remove the deprecated one to silence this warning.\n",
      "Deprecated since v4.0.0 . This feature will be removed in v4.1.0\n",
      "  from yt.config import ytcfg\n"
     ]
    }
   ],
   "source": [
    "import os\n",
    "import yt\n",
    "import h5py\n",
    "import random\n",
    "\n",
    "import numpy as np\n",
    "import illustris_python as il\n",
    "\n",
    "from matplotlib import pyplot as plt\n",
    "from charlie_TNG_tools import pID2shID\n"
   ]
  },
  {
   "cell_type": "markdown",
   "id": "79a5edba",
   "metadata": {},
   "source": [
    "# Initialise"
   ]
  },
  {
   "cell_type": "code",
   "execution_count": 2,
   "id": "1dc6946e",
   "metadata": {},
   "outputs": [
    {
     "name": "stdout",
     "output_type": "stream",
     "text": [
      "Testing whether basePath and simPath exist...\n",
      "basePath exists = True\n",
      "simPath exists = True\n"
     ]
    }
   ],
   "source": [
    "#simulation to create lists for\n",
    "sim_to_use = 'TNG100-2'\n",
    "\n",
    "#snapshots to create lists for\n",
    "snap_list = [99]\n",
    "\n",
    "#base path to data\n",
    "basePath = '/virgo/simulations/IllustrisTNG/{0}/output/'.format(sim_to_use)\n",
    "\n",
    "#path to simulation hdf5 file\n",
    "simPath = '/virgo/simulations/IllustrisTNG/{0}/simulation.hdf5'.format(sim_to_use)\n",
    "\n",
    "#check these exist\n",
    "print('Testing whether basePath and simPath exist...')\n",
    "print('basePath exists = {0}'.format(os.path.exists(basePath)))\n",
    "print('simPath exists = {0}'.format(os.path.exists(simPath)))\n"
   ]
  },
  {
   "cell_type": "markdown",
   "id": "1f5f18c5",
   "metadata": {},
   "source": [
    "# Create directories to store matchlists"
   ]
  },
  {
   "cell_type": "code",
   "execution_count": 3,
   "id": "c4476589",
   "metadata": {},
   "outputs": [
    {
     "name": "stdout",
     "output_type": "stream",
     "text": [
      "Top directory (/u/cwalker/Illustris_Zhang_Method/Sim_Matchlists/) already exists.\n",
      "Directory to hold TNG100-2 matchlist (/u/cwalker/Illustris_Zhang_Method/Sim_Matchlists/Matchlist_dir_TNG100-2 exists.)\n"
     ]
    }
   ],
   "source": [
    "#check to see if a top directory exists\n",
    "topdir_name = '/u/cwalker/Illustris_Zhang_Method/Sim_Matchlists/'\n",
    "topdir_check = os.path.exists(topdir_name)\n",
    "\n",
    "#if it exists, print\n",
    "if topdir_check == True:\n",
    "    print('Top directory ({0}) already exists.'.format(topdir_name))\n",
    "    \n",
    "#else, create it.\n",
    "elif topdir_check == False:\n",
    "    print('Creating top directory for matchlists at {0}...'.format(topdir_name))\n",
    "    os.mkdir(topdir_name)\n",
    "    print('{0} created.'.format(topdir_name))\n",
    "    \n",
    "    \n",
    "#check to see if subdirectory for particular simulation matchlist exists\n",
    "subdir_name = topdir_name+'Matchlist_dir_{0}'.format(sim_to_use)\n",
    "subdir_check = os.path.exists(subdir_name)\n",
    "\n",
    "#if it exists, print\n",
    "if subdir_check == True:\n",
    "    print('Directory to hold {0} matchlist ({1} exists.)'.format(sim_to_use,subdir_name))\n",
    "\n",
    "#else, create it\n",
    "elif subdir_check == False:\n",
    "    print('Creating subdirectory {0}...'.format(subdir_name))\n",
    "    os.mkdir(subdir_name)\n",
    "    print('{0} created.'.format(subdir_name))"
   ]
  },
  {
   "cell_type": "markdown",
   "id": "a139b80a",
   "metadata": {},
   "source": [
    "# Create desired matchlists"
   ]
  },
  {
   "cell_type": "code",
   "execution_count": 4,
   "id": "a341e940",
   "metadata": {},
   "outputs": [
    {
     "name": "stdout",
     "output_type": "stream",
     "text": [
      "Creating for TNG100-2 snap 99\n",
      "Processing snapshot 99 at:\n",
      "/virgo/simulations/IllustrisTNG/TNG100-2/output/snapdir_099/snap_099.0.hdf5\n",
      " with offset file:\n",
      "/virgo/simulations/IllustrisTNG/TNG100-2/postprocessing/offsets/offsets_099.hdf5\n",
      " and particle IDs file loc:\n",
      "/Snapshots/99/PartType0/ParticleIDs\n"
     ]
    },
    {
     "name": "stderr",
     "output_type": "stream",
     "text": [
      "/raven/u/cwalker/virtual_environments/yt-env/lib/python3.7/site-packages/ipykernel_launcher.py:20: H5pyDeprecationWarning: The default file mode will change to 'r' (read-only) in h5py 3.0. To suppress this warning, pass the mode you need to h5py.File(), or set the global default h5.get_config().default_file_mode, or set the environment variable H5PY_DEFAULT_READONLY=1. Available modes are: 'r', 'r+', 'w', 'w-'/'x', 'a'. See the docs for details.\n",
      "yt : [INFO     ] 2022-03-21 13:59:41,874 Calculating time from 1.000e+00 to be 4.356e+17 seconds\n",
      "yt : [INFO     ] 2022-03-21 13:59:41,941 Parameters: current_time              = 4.355810528213311e+17 s\n",
      "yt : [INFO     ] 2022-03-21 13:59:41,943 Parameters: domain_dimensions         = [1 1 1]\n",
      "yt : [INFO     ] 2022-03-21 13:59:41,944 Parameters: domain_left_edge          = [0. 0. 0.]\n",
      "yt : [INFO     ] 2022-03-21 13:59:41,945 Parameters: domain_right_edge         = [75000. 75000. 75000.]\n",
      "yt : [INFO     ] 2022-03-21 13:59:41,946 Parameters: cosmological_simulation   = 1\n",
      "yt : [INFO     ] 2022-03-21 13:59:41,947 Parameters: current_redshift          = 2.220446049250313e-16\n",
      "yt : [INFO     ] 2022-03-21 13:59:41,947 Parameters: omega_lambda              = 0.6911\n",
      "yt : [INFO     ] 2022-03-21 13:59:41,948 Parameters: omega_matter              = 0.3089\n",
      "yt : [INFO     ] 2022-03-21 13:59:41,949 Parameters: omega_radiation           = 0.0\n",
      "yt : [INFO     ] 2022-03-21 13:59:41,949 Parameters: hubble_constant           = 0.6774\n",
      "yt : [INFO     ] 2022-03-21 14:00:35,793 Allocating for 2.993e+09 particles\n",
      "Initializing coarse index : 100%|██████████████████████████████████████████████████████████████████████████████████████████████████████████████████████████▉| 5777/5778 [16:39<00:00,  5.78it/s]\n",
      "Initializing refined index: 100%|████████████████████████████████████████████████████████████████████████████████████████████████████████████████████████▉| 5777/5778 [2:20:17<00:01,  1.46s/it]\n"
     ]
    }
   ],
   "source": [
    "#loop over snapshots\n",
    "for snapshot_number in snap_list:\n",
    "    print('Creating for {0} snap {1}'.format(sim_to_use,snapshot_number))\n",
    "\n",
    "     #########################\n",
    "     #SNAPSHOT DATA LOCATIONS#\n",
    "     #########################\n",
    "\n",
    "    offsetFile = '/virgo/simulations/IllustrisTNG/{0}/postprocessing/offsets/offsets_0{1}.hdf5'.format(sim_to_use,snapshot_number)\n",
    "    data_loc = '/virgo/simulations/IllustrisTNG/{0}/output/snapdir_0{1}/snap_0{1}.0.hdf5'.format(sim_to_use,snapshot_number)\n",
    "    partIDs_loc = '/Snapshots/{0}/PartType0/ParticleIDs'.format(snapshot_number)\n",
    "    \n",
    "    print('Processing snapshot {0} at:\\n{1}\\n with offset file:\\n{2}\\n and particle IDs file loc:\\n{3}'.format(snapshot_number,data_loc,offsetFile,partIDs_loc))\n",
    "\n",
    "    #########################\n",
    "    #CREATE PARTICLE ID LIST#\n",
    "    #########################\n",
    "    \n",
    "    #get all gas particle IDs in snapshot\n",
    "    with h5py.File(simPath) as f:\n",
    "        allparts = f[partIDs_loc][:]\n",
    "    \n",
    "    #create a list version of every particle ID\n",
    "    AllPartList = allparts.tolist()\n",
    "    \n",
    "    ########################\n",
    "    #CREATE SUBHALO ID LIST#\n",
    "    ########################\n",
    "    \n",
    "    #load and index cell data\n",
    "    ds=yt.load(data_loc)\n",
    "    ds.index\n",
    "    \n",
    "    #choose what to ID\n",
    "    to_ID = np.arange(ds.particle_type_counts['PartType0'])\n",
    "    partType = 0 #gas\n",
    "    \n",
    "    #choose subhalo fields to load\n",
    "    subhaloFields = ['SubhaloFlag',\n",
    "                     'SubhaloPos',\n",
    "                     'SubhaloHalfmassRad',\n",
    "                     'SubhaloHalfmassRadType',\n",
    "                     'SubhaloLenType']\n",
    "    \n",
    "    #load subhalo catalog\n",
    "    subhalos=il.groupcat.loadSubhalos(basePath,snapshot_number,fields=subhaloFields)  \n",
    "    subhalos.keys()\n",
    "    \n",
    "    #get subhalo offset file for matching particle and subhalo IDs\n",
    "    with h5py.File(offsetFile,'r') as f:\n",
    "        SnapOffsetsSubhalo= np.copy(f['/Subhalo/SnapByType'])\n",
    "    \n",
    "    #get subhalo lengths for all gas particles\n",
    "    SubhaloLenType = np.copy(subhalos['SubhaloLenType'])\n",
    "    \n",
    "    #create array of subhaloIDs for every gas particle\n",
    "    AllShIDList = pID2shID(to_ID,partType,SubhaloLenType,SnapOffsetsSubhalo)\n",
    "    \n",
    "    #####################\n",
    "    #SAVE LISTS TO FILES#\n",
    "    #####################\n",
    "    \n",
    "    np.save('/{0}/PartList_Snap{1}.npy'.format(subdir_name,snapshot_number),AllPartList)\n",
    "    np.save('/{0}/ShIDList_Snap{1}.npy'.format(subdir_name,snapshot_number),AllShIDList)    "
   ]
  },
  {
   "cell_type": "code",
   "execution_count": null,
   "id": "004166b4",
   "metadata": {},
   "outputs": [],
   "source": []
  },
  {
   "cell_type": "code",
   "execution_count": null,
   "id": "68872676",
   "metadata": {},
   "outputs": [],
   "source": []
  }
 ],
 "metadata": {
  "kernelspec": {
   "display_name": "Python 3 (ipykernel)",
   "language": "python",
   "name": "python3"
  },
  "language_info": {
   "codemirror_mode": {
    "name": "ipython",
    "version": 3
   },
   "file_extension": ".py",
   "mimetype": "text/x-python",
   "name": "python",
   "nbconvert_exporter": "python",
   "pygments_lexer": "ipython3",
   "version": "3.7.6"
  }
 },
 "nbformat": 4,
 "nbformat_minor": 5
}
