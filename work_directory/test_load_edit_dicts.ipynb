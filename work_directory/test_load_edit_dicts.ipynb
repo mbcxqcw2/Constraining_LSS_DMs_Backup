{
 "cells": [
  {
   "cell_type": "markdown",
   "id": "736cd889",
   "metadata": {},
   "source": [
    "# Notes"
   ]
  },
  {
   "cell_type": "markdown",
   "id": "e26bf717",
   "metadata": {},
   "source": [
    "This notebook tests the loading and editing of stored python data dictionaries in preparation for updating Pipe_Creation_Plus_LSS_4.ipynb into Pipe_Creation_Plus_LSS_5.ipynb"
   ]
  },
  {
   "cell_type": "markdown",
   "id": "d02a00fc",
   "metadata": {},
   "source": [
    "# Imports"
   ]
  },
  {
   "cell_type": "code",
   "execution_count": 13,
   "id": "3f44534b",
   "metadata": {},
   "outputs": [],
   "source": [
    "import numpy as np\n",
    "import os"
   ]
  },
  {
   "cell_type": "markdown",
   "id": "4b962503",
   "metadata": {},
   "source": [
    "# Begin"
   ]
  },
  {
   "cell_type": "markdown",
   "id": "7bcbc0c3",
   "metadata": {},
   "source": [
    "create a test data dictionary"
   ]
  },
  {
   "cell_type": "code",
   "execution_count": 40,
   "id": "04709ecc",
   "metadata": {},
   "outputs": [
    {
     "name": "stdout",
     "output_type": "stream",
     "text": [
      "Initialised dictionary {}\n",
      "Updated dictionary: {'test': [0]}\n",
      "length of dictionary: 1\n",
      "dictionary is too short ({'test': [0]})\n",
      "appended dictionary: {'test': [0, 1]}\n",
      "dictionary is too short ({'test': [0, 1]})\n",
      "appended dictionary: {'test': [0, 1, 1]}\n",
      "dictionary is too short ({'test': [0, 1, 1]})\n",
      "appended dictionary: {'test': [0, 1, 1, 1]}\n",
      "dictionary is too short ({'test': [0, 1, 1, 1]})\n",
      "appended dictionary: {'test': [0, 1, 1, 1, 1]}\n",
      "complete dictionary: {'test': [0, 1, 1, 1, 1]}\n",
      "dictionary saved\n"
     ]
    }
   ],
   "source": [
    "tocreate_dict = 'testdict.npy'\n",
    "\n",
    "testdict = {} #initialise dictionary\n",
    "print('Initialised dictionary {0}'.format(testdict))\n",
    "\n",
    "#add something to dictionary\n",
    "testdict['test'] = [0]\n",
    "print('Updated dictionary: {0}'.format(testdict))\n",
    "\n",
    "#update this array\n",
    "print('length of dictionary: {0}'.format(len(testdict['test'])))\n",
    "while(len(testdict['test'])<5): #check length of dictionary\n",
    "    print('dictionary is too short ({0})'.format(testdict))\n",
    "    testdict['test'].append(1) #append something to the dictionary\n",
    "    print('appended dictionary: {0}'.format(testdict))\n",
    "print('complete dictionary: {0}'.format(testdict))\n",
    "\n",
    "#save this dictionary for further tests\n",
    "np.save(tocreate_dict,testdict)\n",
    "print('dictionary saved')\n",
    "    "
   ]
  },
  {
   "cell_type": "markdown",
   "id": "33890fd4",
   "metadata": {},
   "source": [
    "load the test data dictionary"
   ]
  },
  {
   "cell_type": "code",
   "execution_count": 41,
   "id": "8a42f795",
   "metadata": {},
   "outputs": [
    {
     "name": "stdout",
     "output_type": "stream",
     "text": [
      "Chosen file exists. Loading\n",
      "loaded: {'test': [0, 1, 1, 1, 1]}\n"
     ]
    }
   ],
   "source": [
    "toload_dict = 'testdict.npy'\n",
    "\n",
    "#check it exists, if not, create. If yes, load.\n",
    "\n",
    "if not os.path.isfile('./{0}'.format(toload_dict)):\n",
    "    print('Warning, file to load does not exist. creating...')\n",
    "else:\n",
    "    print('Chosen file exists. Loading')\n",
    "    loaded_dict = np.load(toload_dict,allow_pickle=True).tolist()\n",
    "    print('loaded: {0}'.format(loaded_dict))"
   ]
  },
  {
   "cell_type": "markdown",
   "id": "ded3c088",
   "metadata": {},
   "source": [
    "count length of dictionary"
   ]
  },
  {
   "cell_type": "code",
   "execution_count": 42,
   "id": "39656d2a",
   "metadata": {},
   "outputs": [
    {
     "name": "stdout",
     "output_type": "stream",
     "text": [
      "length of loaded dictionary is 5\n"
     ]
    }
   ],
   "source": [
    "lencheck = (len(loaded_dict['test']))\n",
    "print('length of loaded dictionary is {0}'.format(lencheck))"
   ]
  },
  {
   "cell_type": "markdown",
   "id": "b720a76a",
   "metadata": {},
   "source": [
    "If dictionary is too small, add to it and save it again"
   ]
  },
  {
   "cell_type": "code",
   "execution_count": 43,
   "id": "f6de30fb",
   "metadata": {},
   "outputs": [
    {
     "name": "stdout",
     "output_type": "stream",
     "text": [
      "loaded dictionary not yet long enough ([0, 1, 1, 1, 1])\n",
      "loaded dictionary not yet long enough ([0, 1, 1, 1, 1, 2])\n",
      "loaded dictionary not yet long enough ([0, 1, 1, 1, 1, 2, 2])\n",
      "loaded dictionary not yet long enough ([0, 1, 1, 1, 1, 2, 2, 2])\n",
      "loaded dictionary not yet long enough ([0, 1, 1, 1, 1, 2, 2, 2, 2])\n",
      "loaded dictionary not yet long enough ([0, 1, 1, 1, 1, 2, 2, 2, 2, 2])\n",
      "loaded dictionary not yet long enough ([0, 1, 1, 1, 1, 2, 2, 2, 2, 2, 2])\n",
      "loaded dictionary not yet long enough ([0, 1, 1, 1, 1, 2, 2, 2, 2, 2, 2, 2])\n",
      "loaded dictionary not yet long enough ([0, 1, 1, 1, 1, 2, 2, 2, 2, 2, 2, 2, 2])\n",
      "loaded dictionary not yet long enough ([0, 1, 1, 1, 1, 2, 2, 2, 2, 2, 2, 2, 2, 2])\n",
      "loaded dictionary not yet long enough ([0, 1, 1, 1, 1, 2, 2, 2, 2, 2, 2, 2, 2, 2, 2])\n",
      "loaded dictionary not yet long enough ([0, 1, 1, 1, 1, 2, 2, 2, 2, 2, 2, 2, 2, 2, 2, 2])\n",
      "loaded dictionary not yet long enough ([0, 1, 1, 1, 1, 2, 2, 2, 2, 2, 2, 2, 2, 2, 2, 2, 2])\n",
      "loaded dictionary not yet long enough ([0, 1, 1, 1, 1, 2, 2, 2, 2, 2, 2, 2, 2, 2, 2, 2, 2, 2])\n",
      "loaded dictionary not yet long enough ([0, 1, 1, 1, 1, 2, 2, 2, 2, 2, 2, 2, 2, 2, 2, 2, 2, 2, 2])\n"
     ]
    }
   ],
   "source": [
    "desired_length = 20\n",
    "\n",
    "if lencheck<desired_length:\n",
    "    while(lencheck<desired_length):\n",
    "        print('loaded dictionary not yet long enough ({0})'.format(loaded_dict['test']))\n",
    "        loaded_dict['test'].append(2) #append to dictionary\n",
    "        np.save(toload_dict,loaded_dict)#save appended dictionary\n",
    "        loaded_dict = np.load(toload_dict,allow_pickle=True).tolist() #reload dictionary\n",
    "        lencheck    = (len(loaded_dict['test'])) #check new length\n",
    "else:\n",
    "    print('length now correct ({0})'.format(loaded_dict['test']))\n",
    "    print(lencheck)"
   ]
  },
  {
   "cell_type": "code",
   "execution_count": null,
   "id": "9816a373",
   "metadata": {},
   "outputs": [],
   "source": []
  }
 ],
 "metadata": {
  "kernelspec": {
   "display_name": "Python 3 (ipykernel)",
   "language": "python",
   "name": "python3"
  },
  "language_info": {
   "codemirror_mode": {
    "name": "ipython",
    "version": 3
   },
   "file_extension": ".py",
   "mimetype": "text/x-python",
   "name": "python",
   "nbconvert_exporter": "python",
   "pygments_lexer": "ipython3",
   "version": "3.7.6"
  }
 },
 "nbformat": 4,
 "nbformat_minor": 5
}
