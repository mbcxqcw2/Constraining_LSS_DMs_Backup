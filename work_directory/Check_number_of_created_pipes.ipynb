{
 "cells": [
  {
   "cell_type": "markdown",
   "id": "9af0f73c",
   "metadata": {},
   "source": [
    "# Notes"
   ]
  },
  {
   "cell_type": "markdown",
   "id": "8c78fb57",
   "metadata": {},
   "source": [
    "This notebook checks how many pipes have been created so far for a chosen simulation using the scripts /u/cwalker/Illustris_Zhang_Method/batch_jobs/batch_scripts/submit_job_snapXX.sh\n",
    "\n"
   ]
  },
  {
   "cell_type": "markdown",
   "id": "0eff5f6a",
   "metadata": {},
   "source": [
    "# Imports"
   ]
  },
  {
   "cell_type": "code",
   "execution_count": 23,
   "id": "68d6d6f2",
   "metadata": {},
   "outputs": [],
   "source": [
    "from matplotlib import pyplot as plt\n",
    "import os\n",
    "import numpy as np\n"
   ]
  },
  {
   "cell_type": "markdown",
   "id": "048cc383",
   "metadata": {},
   "source": [
    "# Initialise"
   ]
  },
  {
   "cell_type": "code",
   "execution_count": 24,
   "id": "e175e96a",
   "metadata": {},
   "outputs": [
    {
     "name": "stdout",
     "output_type": "stream",
     "text": [
      "Will check TNG300-1 snapshots [99, 91, 84, 78, 72, 67, 59, 50, 40, 33, 25, 21, 17]\n"
     ]
    }
   ],
   "source": [
    "#The snapshots to check\n",
    "snaps_to_check = [99,\n",
    "                  91,\n",
    "                  84,\n",
    "                  78,\n",
    "                  72,\n",
    "                  67,\n",
    "                  59,\n",
    "                  50,\n",
    "                  40,\n",
    "                  33,\n",
    "                  25,\n",
    "                  21,\n",
    "                  17]\n",
    "#The simulation\n",
    "sim_to_check = 'TNG300-1'\n",
    "#sim_to_check = 'TNG100-2'\n",
    "\n",
    "print('Will check {0} snapshots {1}'.format(sim_to_check,snaps_to_check))"
   ]
  },
  {
   "cell_type": "markdown",
   "id": "b48496cd",
   "metadata": {},
   "source": [
    "# Find the files to load"
   ]
  },
  {
   "cell_type": "code",
   "execution_count": 25,
   "id": "11c61ef1",
   "metadata": {},
   "outputs": [
    {
     "name": "stdout",
     "output_type": "stream",
     "text": [
      "Directory with data: ./SpeedTempTest/\n",
      "Pipe data files: ['Sim_TNG300-1_Snap_40_dDMdz_Output_SpeedTempTest.npy', 'Sim_TNG300-1_Snap_25_dDMdz_Output_SpeedTempTest.npy', 'Sim_TNG300-1_Snap_91_dDMdz_Output_SpeedTempTest.npy', 'Sim_TNG300-1_Snap_78_dDMdz_Output_SpeedTempTest.npy', 'Sim_TNG300-1_Snap_17_dDMdz_Output_SpeedTempTest.npy', 'Sim_TNG300-1_Snap_50_dDMdz_Output_SpeedTempTest.npy', 'Sim_TNG300-1_Snap_99_dDMdz_Output_SpeedTempTest.npy', 'Sim_TNG300-1_Snap_72_dDMdz_Output_SpeedTempTest.npy', 'Sim_TNG300-1_Snap_33_dDMdz_Output_SpeedTempTest.npy', 'Sim_TNG300-1_Snap_67_dDMdz_Output_SpeedTempTest.npy', 'Sim_TNG300-1_Snap_21_dDMdz_Output_SpeedTempTest.npy', 'Sim_TNG300-1_Snap_84_dDMdz_Output_SpeedTempTest.npy', 'Sim_TNG300-1_Snap_59_dDMdz_Output_SpeedTempTest.npy']\n",
      "In order:\n",
      "['Sim_TNG300-1_Snap_99_dDMdz_Output_SpeedTempTest.npy'\n",
      " 'Sim_TNG300-1_Snap_91_dDMdz_Output_SpeedTempTest.npy'\n",
      " 'Sim_TNG300-1_Snap_84_dDMdz_Output_SpeedTempTest.npy'\n",
      " 'Sim_TNG300-1_Snap_78_dDMdz_Output_SpeedTempTest.npy'\n",
      " 'Sim_TNG300-1_Snap_72_dDMdz_Output_SpeedTempTest.npy'\n",
      " 'Sim_TNG300-1_Snap_67_dDMdz_Output_SpeedTempTest.npy'\n",
      " 'Sim_TNG300-1_Snap_59_dDMdz_Output_SpeedTempTest.npy'\n",
      " 'Sim_TNG300-1_Snap_50_dDMdz_Output_SpeedTempTest.npy'\n",
      " 'Sim_TNG300-1_Snap_40_dDMdz_Output_SpeedTempTest.npy'\n",
      " 'Sim_TNG300-1_Snap_33_dDMdz_Output_SpeedTempTest.npy'\n",
      " 'Sim_TNG300-1_Snap_25_dDMdz_Output_SpeedTempTest.npy'\n",
      " 'Sim_TNG300-1_Snap_21_dDMdz_Output_SpeedTempTest.npy'\n",
      " 'Sim_TNG300-1_Snap_17_dDMdz_Output_SpeedTempTest.npy']\n"
     ]
    }
   ],
   "source": [
    "#basedir = './' #current directory if not checking results of speed tests\n",
    "basedir = './SpeedTest/' #speed tests directory created on 01/04/2022 (note data has placeholder subhalo IDs)\n",
    "basedir = './SpeedTempTest/' #data with placeholder subhalo IDs and additional LoS WHIM information\n",
    "\n",
    "print('Directory with data: {0}'.format(basedir))\n",
    "\n",
    "all_files = os.listdir(basedir) #all files in current directory\n",
    "npy_files = [i for i in all_files if '.npy' in i] #the numpy files\n",
    "sim_files = [i for i in npy_files if sim_to_check in i] #those pertaining to desired simulation\n",
    "\n",
    "#make sure to load files based on which version of the code is being tested\n",
    "if '/SpeedTempTest/' in basedir:\n",
    "    sim_files = [i for i in sim_files if 'SpeedTempTest' in i] #load whim version\n",
    "elif '/SpeedTest/' in basedir:\n",
    "    sim_files = [i for i in sim_files if 'SpeedTest' in i] #load version of data with impact factor information\n",
    "else:\n",
    "    sim_files = [i for i in sim_files if 'pID_test' in i] #load version of data with impact factor information\n",
    "\n",
    "print('Pipe data files: {0}'.format(sim_files))    \n",
    "print('In order:')\n",
    "sim_files.sort()\n",
    "sim_files = np.array(sim_files[::-1])\n",
    "print(sim_files)"
   ]
  },
  {
   "cell_type": "markdown",
   "id": "be70c869",
   "metadata": {},
   "source": [
    "# Load pipes"
   ]
  },
  {
   "cell_type": "code",
   "execution_count": 28,
   "id": "8e29759e",
   "metadata": {},
   "outputs": [
    {
     "name": "stdout",
     "output_type": "stream",
     "text": [
      "Sim_TNG300-1_Snap_99_dDMdz_Output_SpeedTempTest.npy\n",
      "Sim_TNG300-1_Snap_91_dDMdz_Output_SpeedTempTest.npy\n",
      "Sim_TNG300-1_Snap_84_dDMdz_Output_SpeedTempTest.npy\n",
      "Sim_TNG300-1_Snap_78_dDMdz_Output_SpeedTempTest.npy\n",
      "Sim_TNG300-1_Snap_72_dDMdz_Output_SpeedTempTest.npy\n",
      "Sim_TNG300-1_Snap_67_dDMdz_Output_SpeedTempTest.npy\n",
      "Sim_TNG300-1_Snap_59_dDMdz_Output_SpeedTempTest.npy\n",
      "Sim_TNG300-1_Snap_50_dDMdz_Output_SpeedTempTest.npy\n",
      "Sim_TNG300-1_Snap_40_dDMdz_Output_SpeedTempTest.npy\n",
      "Sim_TNG300-1_Snap_33_dDMdz_Output_SpeedTempTest.npy\n",
      "Sim_TNG300-1_Snap_25_dDMdz_Output_SpeedTempTest.npy\n",
      "Sim_TNG300-1_Snap_21_dDMdz_Output_SpeedTempTest.npy\n",
      "Sim_TNG300-1_Snap_17_dDMdz_Output_SpeedTempTest.npy\n",
      "[5125, 5125, 5125, 5125, 5125, 5125, 5125, 5125, 5125, 5125, 5125, 5125, 5125]\n",
      "['Sim_TNG300-1_Snap_99_dDMdz_Output_SpeedTempTest.npy'\n",
      " 'Sim_TNG300-1_Snap_91_dDMdz_Output_SpeedTempTest.npy'\n",
      " 'Sim_TNG300-1_Snap_84_dDMdz_Output_SpeedTempTest.npy'\n",
      " 'Sim_TNG300-1_Snap_78_dDMdz_Output_SpeedTempTest.npy'\n",
      " 'Sim_TNG300-1_Snap_72_dDMdz_Output_SpeedTempTest.npy'\n",
      " 'Sim_TNG300-1_Snap_67_dDMdz_Output_SpeedTempTest.npy'\n",
      " 'Sim_TNG300-1_Snap_59_dDMdz_Output_SpeedTempTest.npy'\n",
      " 'Sim_TNG300-1_Snap_50_dDMdz_Output_SpeedTempTest.npy'\n",
      " 'Sim_TNG300-1_Snap_40_dDMdz_Output_SpeedTempTest.npy'\n",
      " 'Sim_TNG300-1_Snap_33_dDMdz_Output_SpeedTempTest.npy'\n",
      " 'Sim_TNG300-1_Snap_25_dDMdz_Output_SpeedTempTest.npy'\n",
      " 'Sim_TNG300-1_Snap_21_dDMdz_Output_SpeedTempTest.npy'\n",
      " 'Sim_TNG300-1_Snap_17_dDMdz_Output_SpeedTempTest.npy']\n"
     ]
    }
   ],
   "source": [
    "npipes_list =[]\n",
    "\n",
    "for i in range(len(sim_files)):\n",
    "    print(sim_files[i])\n",
    "    try:\n",
    "        datafile = sim_files[i]\n",
    "        data = np.load(basedir+datafile,allow_pickle=True).tolist()\n",
    "        npipes=len(data['dDMdz_Pakmor'])\n",
    "        npipes_list.append(npipes)\n",
    "    except:\n",
    "        print('error! could not load.')\n",
    "        npipes_list.append(-1000)\n",
    "    \n",
    "print(npipes_list)\n",
    "print(sim_files)"
   ]
  },
  {
   "cell_type": "markdown",
   "id": "21a489fc",
   "metadata": {},
   "source": [
    "\n",
    "# Plot"
   ]
  },
  {
   "cell_type": "code",
   "execution_count": 27,
   "id": "15351574",
   "metadata": {},
   "outputs": [
    {
     "data": {
      "image/png": "[encoded data removed]",
      "text/plain": [
       "<Figure size 864x648 with 1 Axes>"
      ]
     },
     "metadata": {
      "needs_background": "light"
     },
     "output_type": "display_data"
    }
   ],
   "source": [
    "fig = plt.figure(figsize=(12,9))\n",
    "ax=fig.add_subplot(111)\n",
    "ax.set_title('Simulation: {0}'.format(sim_to_check),fontsize=15)\n",
    "ax.set_xlabel('Snapshot number',fontsize=15)\n",
    "ax.set_ylabel('Number of pipes',fontsize=15)\n",
    "\n",
    "ax.bar(snaps_to_check[0:len(npipes_list)],npipes_list)\n",
    "\n",
    "plt.tight_layout()\n",
    "plt.show()"
   ]
  },
  {
   "cell_type": "code",
   "execution_count": 6,
   "id": "812cc0ad",
   "metadata": {},
   "outputs": [
    {
     "name": "stdout",
     "output_type": "stream",
     "text": [
      "0 a\n",
      "1 s\n",
      "2 g\n",
      "3 k\n"
     ]
    }
   ],
   "source": [
    "for i,x in enumerate(['a','s','g','k']):\n",
    "    print(i,x)"
   ]
  },
  {
   "cell_type": "code",
   "execution_count": null,
   "id": "c19c86d5",
   "metadata": {},
   "outputs": [],
   "source": []
  },
  {
   "cell_type": "code",
   "execution_count": null,
   "id": "d1f2eb7c",
   "metadata": {},
   "outputs": [],
   "source": []
  }
 ],
 "metadata": {
  "kernelspec": {
   "display_name": "Python 3 (ipykernel)",
   "language": "python",
   "name": "python3"
  },
  "language_info": {
   "codemirror_mode": {
    "name": "ipython",
    "version": 3
   },
   "file_extension": ".py",
   "mimetype": "text/x-python",
   "name": "python",
   "nbconvert_exporter": "python",
   "pygments_lexer": "ipython3",
   "version": "3.7.6"
  }
 },
 "nbformat": 4,
 "nbformat_minor": 5
}
