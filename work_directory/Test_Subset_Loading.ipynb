{
 "cells": [
  {
   "cell_type": "markdown",
   "id": "3b7ca295",
   "metadata": {},
   "source": [
    "# Notes"
   ]
  },
  {
   "cell_type": "markdown",
   "id": "01523edf",
   "metadata": {},
   "source": [
    "This jupyter notebook compares the results of a pipe loaded using the entire dataset of TNG100-3 in one go, vs the results when it is loaded in chunks. If these are identical, it will allow us to perform our calculations for larger TNG simulations.\n",
    "\n",
    "From forum:\n",
    "\n",
    "https://www.tng-project.org/data/forum/topic/203/loading-the-tng100-1-data/\n",
    "https://www.tng-project.org/data/forum/topic/392/loading-subsample-of-all-particles-of-given-type/"
   ]
  },
  {
   "cell_type": "markdown",
   "id": "3de04439",
   "metadata": {},
   "source": [
    "# Imports"
   ]
  },
  {
   "cell_type": "code",
   "execution_count": 48,
   "id": "d1612794",
   "metadata": {},
   "outputs": [],
   "source": [
    "import h5py\n",
    "import numpy as np\n",
    "import illustris_python as il\n",
    "from charlie_TNG_tools import temp2u\n",
    "from astropy import constants as c\n",
    "from astropy.cosmology import Planck15 as cosmosource\n"
   ]
  },
  {
   "cell_type": "markdown",
   "id": "ba0c9507",
   "metadata": {},
   "source": [
    "# Functions"
   ]
  },
  {
   "cell_type": "code",
   "execution_count": 2,
   "id": "21eb9a85",
   "metadata": {},
   "outputs": [],
   "source": [
    "def pSplitRange(indrange, numProcs, curProc, inclusive=False):\n",
    "    \"\"\" Divide work for embarassingly parallel problems. \n",
    "    Accept a 2-tuple of [start,end] indices and return a new range subset.\n",
    "    If inclusive==True, then assume the range subset will be used e.g. as input to snapshotSubseet(),\n",
    "    which unlike numpy convention is inclusive in the indices.\"\"\"\n",
    "    assert len(indrange) == 2 and indrange[1] > indrange[0]\n",
    "\n",
    "    if numProcs == 1:\n",
    "        if curProc != 0:\n",
    "            raise Exception(\"Only a single processor but requested curProc>0.\")\n",
    "        return indrange\n",
    "\n",
    "    # split array into numProcs segments, and return the curProc'th segment\n",
    "    splitSize = int(np.floor( (indrange[1]-indrange[0]) / numProcs ))\n",
    "    start = indrange[0] + curProc*splitSize\n",
    "    end   = indrange[0] + (curProc+1)*splitSize\n",
    "\n",
    "    # for last split, make sure it takes any leftovers\n",
    "    if curProc == numProcs-1:\n",
    "        end = indrange[1]\n",
    "\n",
    "    if inclusive and curProc < numProcs-1:\n",
    "        # not for last split/final index, because this should be e.g. NumPart[0]-1 already\n",
    "        end -= 1\n",
    "\n",
    "    return [start,end]\n",
    "\n",
    "\n",
    "def loadSubset(simPath, snap, partType, fields, chunkNum=0, totNumChunks=1):\n",
    "    \"\"\" \n",
    "    Load part of a snapshot.\n",
    "    frm Dylan Nelson: https://www.tng-project.org/data/forum/topic/203/loading-the-tng100-1-data/\n",
    "    \"\"\"\n",
    "    nTypes = 6\n",
    "    ptNum = il.util.partTypeNum(partType)\n",
    "\n",
    "    with h5py.File(il.snapshot.snapPath(simPath,snap),'r') as f:\n",
    "        numPartTot = il.snapshot.getNumPart( dict(f['Header'].attrs.items()) )[ptNum]\n",
    "\n",
    "    # define index range\n",
    "    indRange_fullSnap = [0,numPartTot-1]\n",
    "    indRange = pSplitRange(indRange_fullSnap, totNumChunks, chunkNum, inclusive=True)\n",
    "\n",
    "    # load a contiguous chunk by making a subset specification in analogy to the group ordered loads\n",
    "    subset = { 'offsetType'  : np.zeros(nTypes, dtype='int64'),\n",
    "               'lenType'     : np.zeros(nTypes, dtype='int64') }\n",
    "\n",
    "    subset['offsetType'][ptNum] = indRange[0]\n",
    "    subset['lenType'][ptNum]    = indRange[1]-indRange[0]+1\n",
    "\n",
    "    # add snap offsets (as required)\n",
    "    with h5py.File(il.snapshot.offsetPath(simPath,snap),'r') as f:\n",
    "        subset['snapOffsets'] = np.transpose(f['FileOffsets/SnapByType'][()])\n",
    "\n",
    "    # load from disk\n",
    "    r = il.snapshot.loadSubset(simPath, snap, partType, fields, subset=subset)\n",
    "\n",
    "    return r"
   ]
  },
  {
   "cell_type": "markdown",
   "id": "b4ab2566",
   "metadata": {},
   "source": [
    "# Test the TNG data subset loading functions"
   ]
  },
  {
   "cell_type": "code",
   "execution_count": 33,
   "id": "4bb27e9a",
   "metadata": {
    "scrolled": true
   },
   "outputs": [
    {
     "name": "stdout",
     "output_type": "stream",
     "text": [
      "(88935326,)\n"
     ]
    }
   ],
   "source": [
    "############\n",
    "#Initialise#\n",
    "############\n",
    "\n",
    "#define constants for warm-phase gas mass fraction\n",
    "T_h = 10**7  #hot phase gase temperature [Kelvin] \n",
    "T_c = 10**3  #cold phase gas temperature [Kelvin]\n",
    "x_h = 0.75   #Hydrogen mass fraction\n",
    "\n",
    "nSubLoads = 100\n",
    "snap_number = 99 #snapshot number for test\n",
    "sim_to_use = 'TNG100-3'\n",
    "basePath = '/virgo/simulations/IllustrisTNG/{0}/output/'.format(sim_to_use)\n",
    "fields=['Density',\n",
    "        'ElectronAbundance',\n",
    "        'StarFormationRate',\n",
    "        'InternalEnergy',\n",
    "        'Coordinates',\n",
    "        'Masses',\n",
    "        'SubfindDMDensity']\n",
    "\n",
    "########################\n",
    "########################\n",
    "##load full simulation##\n",
    "########################\n",
    "########################\n",
    "\n",
    "dataPT0 = il.snapshot.loadSubset(basePath, snap_number, 'gas', fields=fields)\n",
    "\n",
    "######################################\n",
    "#create warm-phase gas mass fractions#\n",
    "######################################\n",
    "#note: this is from _w_frac_new() function in \n",
    "#raven:/u/cwalker/Illustris_FRB_Project/oct2_2021_output/IGM_new_scripts/job_raven.py\n",
    "\n",
    "density = dataPT0['Density'] #the density values along the light ray in gcm**-3\n",
    "sfr     = dataPT0['StarFormationRate'] #the star formation rate along the light ray in g/s\n",
    "ie      = dataPT0['InternalEnergy'] #the internal energy along the light ray in erg/g\n",
    "ea      = dataPT0['ElectronAbundance'] #the electron abundance along the light ray\n",
    "\n",
    "#calculate x and w, cold and warm phase gas mass fractions\n",
    "x_frac = (temp2u(T_h,ea)-ie)/(temp2u(T_h,ea)-temp2u(T_c,ea)) #cold phase mass fraction\n",
    "w_frac = 1 - x_frac # warm phase mass fraction\n",
    "\n",
    "#only modify electron abundance if sfr = 0\n",
    "w_frac[np.where(sfr==0)]=1\n",
    "\n",
    "#append to the data dictionary\n",
    "dataPT0['Warm'] = w_frac\n",
    "\n",
    "#################################################################\n",
    "#store data which will be checked against partial loading method#\n",
    "#################################################################\n",
    "totfull = dataPT0['Density'].shape[0] #total number of particles\n",
    "totfull_warm = dataPT0['Warm']\n",
    "print(totfull_warm.shape)\n",
    "\n",
    "##################################################################################################\n",
    "##################################################################################################\n",
    "##load simulation on a partwise basis, compare number of particles to when loading full snapshot##\n",
    "##################################################################################################\n",
    "##################################################################################################\n",
    "\n",
    "#initialise\n",
    "totpart = 0 #initialise count of total number of particles\n",
    "totpart_warm = []\n",
    "\n",
    "#load partwise\n",
    "for i in range(nSubLoads):\n",
    "    data = loadSubset(basePath,snap_number, 'gas', fields,chunkNum=i, totNumChunks=nSubLoads)\n",
    "    #create warm-phase gas mass fraction\n",
    "    density = data['Density'] #the density values along the light ray in gcm**-3\n",
    "    sfr     = data['StarFormationRate'] #the star formation rate along the light ray in g/s\n",
    "    ie      = data['InternalEnergy'] #the internal energy along the light ray in erg/g\n",
    "    ea      = data['ElectronAbundance'] #the electron abundance along the light ray\n",
    "    #calculate x and w, cold and warm phase gas mass fractions\n",
    "    x_frac = (temp2u(T_h,ea)-ie)/(temp2u(T_h,ea)-temp2u(T_c,ea)) #cold phase mass fraction\n",
    "    w_frac = 1 - x_frac # warm phase mass fraction\n",
    "    #only modify electron abundance if sfr = 0\n",
    "    w_frac[np.where(sfr==0)]=1\n",
    "    data['Warm']=w_frac\n",
    "    #store data which will be checked against full loading method\n",
    "    totpart+=data['Density'].shape[0] #tally number of particles\n",
    "    totpart_warm.append(data['Warm'])\n",
    "\n"
   ]
  },
  {
   "cell_type": "code",
   "execution_count": 34,
   "id": "1f3e3d26",
   "metadata": {},
   "outputs": [
    {
     "name": "stdout",
     "output_type": "stream",
     "text": [
      "CHECK 1 PASSED, BOTH LOADING TYPES RESULT IN 88935326 PARTICLES\n"
     ]
    }
   ],
   "source": [
    "\n",
    "#perform check on total number of particles\n",
    "if totpart==totfull:\n",
    "    print('CHECK 1 PASSED, BOTH LOADING TYPES RESULT IN {0} PARTICLES'.format(totpart))\n",
    "else:\n",
    "    print(totpart/2,totfull)\n",
    "    print('CHECK 1 FAILED')\n",
    "\n",
    "\n"
   ]
  },
  {
   "cell_type": "code",
   "execution_count": 35,
   "id": "89b28ba0",
   "metadata": {},
   "outputs": [],
   "source": [
    "#convert partial arrays to form which can be compared to total\n",
    "totpart_warm_flat = [item for sublist in totpart_warm for item in sublist]\n",
    "totpart_warm_flat = np.array(totpart_warm_flat)"
   ]
  },
  {
   "cell_type": "code",
   "execution_count": 44,
   "id": "7b7b7ff1",
   "metadata": {},
   "outputs": [
    {
     "name": "stdout",
     "output_type": "stream",
     "text": [
      "CHECK 2 PASSED\n"
     ]
    }
   ],
   "source": [
    "#perform check on warm-phase gas mass fraction values\n",
    "test2 = (totpart_warm_flat==totfull_warm)\n",
    "if False in test2:\n",
    "    print('CHECK 2 FAILED: WARM-PHASE GAS MASS FRACTIONS ARE NOT IDENTICAL')\n",
    "else:\n",
    "    print('CHECK 2 PASSED')\n"
   ]
  },
  {
   "cell_type": "markdown",
   "id": "3770dafe",
   "metadata": {},
   "source": [
    "# Test loading the same pipe and make sure the results are equal"
   ]
  },
  {
   "cell_type": "code",
   "execution_count": 49,
   "id": "9bbffae2",
   "metadata": {},
   "outputs": [
    {
     "name": "stdout",
     "output_type": "stream",
     "text": [
      "Loading Simulation: TNG100-3\n",
      "Number of cells in snapshot 99 is 88935326\n",
      "Pipe width will be 200 ckpc/h\n",
      "There will be 10000 bins on each sightline\n",
      "Proton mass is 1.67262192369e-27 kg\n",
      "Chosen H mass fraction is 0.75. Check whether this is correct\n",
      "Critical density at z=0 = 8.619160453152573e-27 kg / m3\n"
     ]
    },
    {
     "name": "stderr",
     "output_type": "stream",
     "text": [
      "WARNING: UnitsWarning: 'km/s/Mpc' contains multiple slashes, which is discouraged by the FITS standard [astropy.units.format.generic]\n"
     ]
    }
   ],
   "source": [
    "############\n",
    "#Initialise#\n",
    "############\n",
    "\n",
    "npipes      = 1  #number of pipes to create\n",
    "snap_number = 99 #snapshot number for test\n",
    "\n",
    "#define constants\n",
    "T_h = 10**7  #hot phase gase temperature [Kelvin] \n",
    "T_c = 10**3  #cold phase gas temperature [Kelvin]\n",
    "x_h = 0.75   #Hydrogen mass fraction\n",
    "\n",
    "#simulation to use\n",
    "sim_to_use = 'TNG100-3'\n",
    "#base path to simulation\n",
    "basePath = '/virgo/simulations/IllustrisTNG/{0}/output/'.format(sim_to_use)\n",
    "\n",
    "\n",
    "\n",
    "#######################\n",
    "#load whole simulation#\n",
    "#######################\n",
    "\n",
    "print('Loading Simulation: {0}'.format(sim_to_use))\n",
    "#gas, i.e. partType0 data to load\n",
    "dataPT0 = il.snapshot.loadSubset(basePath, snap_number, 'gas', fields=['Density',\n",
    "                                                                       'ElectronAbundance',\n",
    "                                                                       'StarFormationRate',\n",
    "                                                                       'InternalEnergy',\n",
    "                                                                       'Coordinates',\n",
    "                                                                       'Masses',\n",
    "                                                                       'SubfindDMDensity'])\n",
    "\n",
    "\n",
    "######################################\n",
    "#create warm-phase gas mass fractions#\n",
    "######################################\n",
    "#note: this is from _w_frac_new() function in \n",
    "#raven:/u/cwalker/Illustris_FRB_Project/oct2_2021_output/IGM_new_scripts/job_raven.py\n",
    "\n",
    "density = dataPT0['Density'] #the density values along the light ray in gcm**-3\n",
    "sfr     = dataPT0['StarFormationRate'] #the star formation rate along the light ray in g/s\n",
    "ie      = dataPT0['InternalEnergy'] #the internal energy along the light ray in erg/g\n",
    "ea      = dataPT0['ElectronAbundance'] #the electron abundance along the light ray\n",
    "\n",
    "\n",
    "#calculate x and w, cold and warm phase gas mass fractions\n",
    "x_frac = (temp2u(T_h,ea)-ie)/(temp2u(T_h,ea)-temp2u(T_c,ea)) #cold phase mass fraction\n",
    "w_frac = 1 - x_frac # warm phase mass fraction\n",
    "\n",
    "#only modify electron abundance if sfr = 0\n",
    "w_frac[np.where(sfr==0)]=1\n",
    "\n",
    "#append to the data dictionary\n",
    "dataPT0['Warm'] = w_frac\n",
    "\n",
    "\n",
    "\n",
    "#############\n",
    "#load header#\n",
    "#############\n",
    "\n",
    "header = il.groupcat.loadHeader(basePath,snap_number)\n",
    "\n",
    "#######################\n",
    "#Initialise pipe stuff#\n",
    "#######################\n",
    "\n",
    "#The number of cells in the chosen snapshot\n",
    "ncells = dataPT0['Coordinates'].shape[0]\n",
    "print('Number of cells in snapshot {0} is {1}'.format(snap_number,ncells))\n",
    "\n",
    "#The width of the pipe\n",
    "pipe_width = 200 #By following zhang+20 definition, sides will be 200ckpc/h in length\n",
    "print('Pipe width will be {0} ckpc/h'.format(pipe_width))\n",
    "\n",
    "#The number of bins along a single line of sight\n",
    "nbins=10000 #Zhang+20 definition: 10,000\n",
    "print('There will be {0} bins on each sightline'.format(nbins))\n",
    "\n",
    "#Define the mass of a proton for dDM/dz calculations\n",
    "protonmass = c.m_p.to('kg')\n",
    "print('Proton mass is {0}'.format(protonmass))\n",
    "\n",
    "#Define the hydrogen mass fraction for dDM/dz calculations\n",
    "hmassfrac = 3./4.\n",
    "print('Chosen H mass fraction is {0}. Check whether this is correct'.format(hmassfrac))\n",
    "\n",
    "#calculate the critical density at redshift zero for structure categorisation\n",
    "#source to formula: https://astronomy.swin.edu.au/cosmos/c/Critical+Density\n",
    "grav=c.G.to('m**3/(kg*s**2)') #g as a YT quantity in correct units\n",
    "H=cosmosource.H(0).to('km/s/Mpc') #hubble const at z=0 in km/s/Mpc\n",
    "my_dens_crit = ((3 * H**2)/(8*np.pi* grav)).to('kg/m**3')\n",
    "print('Critical density at z=0 = {0}'.format(my_dens_crit))"
   ]
  },
  {
   "cell_type": "markdown",
   "id": "442bebee",
   "metadata": {},
   "source": [
    "## Create the pipe details"
   ]
  },
  {
   "cell_type": "code",
   "execution_count": 50,
   "id": "ce1a0224",
   "metadata": {},
   "outputs": [
    {
     "name": "stdout",
     "output_type": "stream",
     "text": [
      "Random start cell coordinates: [    0.         40997.32329197 60139.75065242]\n",
      "Pipe end cell coordinates: [75000.         40997.32329197 60139.75065242]\n"
     ]
    }
   ],
   "source": [
    "#############\n",
    "#Create Pipe#\n",
    "#############\n",
    "\n",
    "\n",
    "\n",
    "#########################################\n",
    "#define los coordinates at start of pipe#\n",
    "#########################################\n",
    "\n",
    "#By Zhang+20 definition of following x-axis,\n",
    "#x will be zero, y and z will be random\n",
    "#units default = ckpc/h (compare box size to https://www.tng-project.org/about/)\n",
    "\n",
    "pipe_start_coords = np.array([0,\n",
    "                     np.random.uniform(0,header['BoxSize'],1)[0],\n",
    "                     np.random.uniform(0,header['BoxSize'],1)[0]])\n",
    "print('Random start cell coordinates: {0}'.format(pipe_start_coords))\n",
    "\n",
    "###################################\n",
    "#define coordinates at end of pipe#\n",
    "###################################\n",
    "\n",
    "#By Zhang+20 definition of following x-axis,\n",
    "#x will be length of simulation,y and z will be same as start coords\n",
    "\n",
    "pipe_end_coords = pipe_start_coords+np.array([header['BoxSize'],0,0])\n",
    "print('Pipe end cell coordinates: {0}'.format(pipe_end_coords))\n",
    "\n",
    "########################\n",
    "#construct pipe corners#\n",
    "########################\n",
    "\n",
    "#Add and subtract half of pipe length from y and z coords for y and z boundaries\n",
    "#code adapted from https://stackoverflow.com/questions/33540109/plot-surfaces-on-a-cube\n",
    "\n",
    "c1s = pipe_start_coords + np.array([0,pipe_width/2,pipe_width/2]) #start corner 1\n",
    "c2s = pipe_start_coords + np.array([0,-pipe_width/2,-pipe_width/2]) #start corner 2\n",
    "c3s = pipe_start_coords + np.array([0,pipe_width/2,-pipe_width/2]) #start corner 3\n",
    "c4s = pipe_start_coords + np.array([0,-pipe_width/2,pipe_width/2]) #start corner 4\n",
    "\n",
    "c1e = pipe_end_coords + np.array([0,pipe_width/2,pipe_width/2]) #end corner 1\n",
    "c2e = pipe_end_coords + np.array([0,-pipe_width/2,-pipe_width/2]) #end corner 2\n",
    "c3e = pipe_end_coords + np.array([0,pipe_width/2,-pipe_width/2]) #end corner 3\n",
    "c4e = pipe_end_coords + np.array([0,-pipe_width/2,pipe_width/2]) #end corner 4\n",
    "\n",
    "corners = np.array([c1s,c2s,c3s,c4s,c1e,c2e,c3e,c4e])"
   ]
  },
  {
   "cell_type": "markdown",
   "id": "001d2637",
   "metadata": {},
   "source": [
    "## Get the data in this pipe using full snap loading method"
   ]
  },
  {
   "cell_type": "code",
   "execution_count": 52,
   "id": "0adb24da",
   "metadata": {},
   "outputs": [
    {
     "name": "stdout",
     "output_type": "stream",
     "text": [
      "All y and z values: [[26340.14797967 18286.47294083]\n",
      " [26333.73134483 18284.21846164]\n",
      " [26332.11977328 18286.97684438]\n",
      " ...\n",
      " [32512.26227586 41876.47687281]\n",
      " [32759.88182406 44010.40573232]\n",
      " [46529.37972099 49350.65699391]]\n",
      "Upper right: [41097.32329197 60239.75065242]\n",
      "Lower left: [40897.32329197 60039.75065242]\n",
      "[False False False ... False False False]\n",
      "491 cells in this pipe\n"
     ]
    }
   ],
   "source": [
    "###########################################\n",
    "#get cells in this pipe from full data set#\n",
    "###########################################\n",
    "\n",
    "#adapted from https://stackoverflow.com/questions/42352622/finding-points-within-a-bounding-box-with-numpy\n",
    "#I think this is right but if I get any strange results, double check the theory\n",
    "\n",
    "yz_pts = dataPT0['Coordinates'][:,[1,2]] #all y and z coords\n",
    "print('All y and z values: {0}'.format(yz_pts))\n",
    "\n",
    "ur = c1s[1:] #upper right of pipe start (y and z only)\n",
    "ll = c2e[1:] #lower left of pipe end (y and z only)\n",
    "print('Upper right: {0}'.format(ur))\n",
    "print('Lower left: {0}'.format(ll))\n",
    "\n",
    "inidx = np.all((ll <= yz_pts) & (yz_pts <= ur), axis=1) #indexes of cells in pipe\n",
    "print(inidx)\n",
    "\n",
    "###########################\n",
    "#get data of cells in pipe#\n",
    "###########################\n",
    "\n",
    "pipe_cell_coords = dataPT0['Coordinates'][inidx]       #coordinates [ckpc/h]\n",
    "pipe_cell_dens   = dataPT0['Density'][inidx]           #densities [(1e10Msun/h)/(ckpc/h)**3]\n",
    "pipe_cell_elab   = dataPT0['ElectronAbundance'][inidx] #electron abundance [-]\n",
    "pipe_cell_sfr    = dataPT0['StarFormationRate'][inidx] #star formation rate [Msun/yr]\n",
    "pipe_cell_dark   = dataPT0['SubfindDMDensity'][inidx]  #comoving dark matter density [(1e10Msun/h)/(ckpc/h)**3]\n",
    "pipe_cell_warm   = dataPT0['Warm'][inidx]              #warm-phase gas mass fraction\n",
    "\n",
    "print('{0} cells in this pipe'.format(dataPT0['Coordinates'][inidx].shape[0]))"
   ]
  },
  {
   "cell_type": "markdown",
   "id": "c7069fb6",
   "metadata": {},
   "source": [
    "## get the data in this pipe using partial snap loading method"
   ]
  },
  {
   "cell_type": "code",
   "execution_count": 60,
   "id": "faa2ac27",
   "metadata": {},
   "outputs": [],
   "source": [
    "###########################################\n",
    "#get cells in this pipe by partial loading#\n",
    "###########################################\n",
    "\n",
    "#initialise\n",
    "pipe_cell_coords_part=[]\n",
    "pipe_cell_dens_part = []\n",
    "pipe_cell_elab_part=[]\n",
    "pipe_cell_sfr_part=[]\n",
    "pipe_cell_dark_part = []\n",
    "pipe_cell_warm_part=[]\n",
    "\n",
    "#########################\n",
    "#loop over partial loads#\n",
    "#########################\n",
    "\n",
    "for i in range(nSubLoads):\n",
    "    \n",
    "    ###########################\n",
    "    #load the partial data set#\n",
    "    ###########################\n",
    "    \n",
    "    data = loadSubset(basePath,snap_number, 'gas', fields,chunkNum=i, totNumChunks=nSubLoads)\n",
    "\n",
    "    #####################################\n",
    "    #create warm-phase gas mass fraction#\n",
    "    #####################################\n",
    "    \n",
    "    density = data['Density'] #the density values along the light ray in gcm**-3\n",
    "    sfr     = data['StarFormationRate'] #the star formation rate along the light ray in g/s\n",
    "    ie      = data['InternalEnergy'] #the internal energy along the light ray in erg/g\n",
    "    ea      = data['ElectronAbundance'] #the electron abundance along the light ray\n",
    "    #calculate x and w, cold and warm phase gas mass fractions\n",
    "    x_frac = (temp2u(T_h,ea)-ie)/(temp2u(T_h,ea)-temp2u(T_c,ea)) #cold phase mass fraction\n",
    "    w_frac = 1 - x_frac # warm phase mass fraction\n",
    "    #only modify electron abundance if sfr = 0\n",
    "    w_frac[np.where(sfr==0)]=1\n",
    "    data['Warm']=w_frac    \n",
    "\n",
    "    ########################\n",
    "    #get cells in this pipe#\n",
    "    ########################\n",
    "    \n",
    "    yz_pts = data['Coordinates'][:,[1,2]]\n",
    "    ur = c1s[1:] #upper right of pipe start (y and z only)\n",
    "    ll = c2e[1:] #lower left of pipe end (y and z only)\n",
    "    inidx = np.all((ll <= yz_pts) & (yz_pts <= ur), axis=1) #indexes of cells in pipe\n",
    "\n",
    "    ###########################\n",
    "    #get data of cells in pipe#\n",
    "    ###########################\n",
    "\n",
    "    pipe_cell_coords_part.append(data['Coordinates'][inidx])       #coordinates [ckpc/h]\n",
    "    pipe_cell_dens_part.append(data['Density'][inidx])           #densities [(1e10Msun/h)/(ckpc/h)**3]\n",
    "    pipe_cell_elab_part.append(data['ElectronAbundance'][inidx]) #electron abundance [-]\n",
    "    pipe_cell_sfr_part.append(data['StarFormationRate'][inidx]) #star formation rate [Msun/yr]\n",
    "    pipe_cell_dark_part.append(data['SubfindDMDensity'][inidx])  #comoving dark matter density [(1e10Msun/h)/(ckpc/h)**3]\n",
    "    pipe_cell_warm_part.append(data['Warm'][inidx])"
   ]
  },
  {
   "cell_type": "markdown",
   "id": "1cba2aae",
   "metadata": {},
   "source": [
    "## flatten the partially loaded data"
   ]
  },
  {
   "cell_type": "code",
   "execution_count": 61,
   "id": "6c90eda8",
   "metadata": {},
   "outputs": [],
   "source": [
    "pipe_cell_coords_part_flat = np.array([item for sublist in pipe_cell_coords_part for item in sublist])\n",
    "pipe_cell_dens_part_flat   = np.array([item for sublist in pipe_cell_dens_part for item in sublist])\n",
    "pipe_cell_elab_part_flat   = np.array([item for sublist in pipe_cell_elab_part for item in sublist])\n",
    "pipe_cell_sfr_part_flat    = np.array([item for sublist in pipe_cell_sfr_part for item in sublist])\n",
    "pipe_cell_dark_part_flat   = np.array([item for sublist in pipe_cell_dark_part for item in sublist])\n",
    "pipe_cell_warm_part_flat   = np.array([item for sublist in pipe_cell_warm_part for item in sublist])\n"
   ]
  },
  {
   "cell_type": "markdown",
   "id": "aa3f71ff",
   "metadata": {},
   "source": [
    "## compare data loaded by full and partial methods"
   ]
  },
  {
   "cell_type": "code",
   "execution_count": 73,
   "id": "0db3bdc8",
   "metadata": {},
   "outputs": [
    {
     "name": "stdout",
     "output_type": "stream",
     "text": [
      "COORDS CHECK PASSED\n",
      "DENS CHECK PASSED\n",
      "ELAB CHECK PASSED\n",
      "SFR CHECK PASSED\n",
      "DARK CHECK PASSED\n",
      "WARM CHECK PASSED\n"
     ]
    }
   ],
   "source": [
    "#perform check on warm-phase gas mass fraction values\n",
    "coordstest = (pipe_cell_coords_part_flat==pipe_cell_coords)\n",
    "if False in coordstest:\n",
    "    print('COORDS CHECK FAILED: COORDINATES ARE NOT IDENTICAL')\n",
    "else:\n",
    "    print('COORDS CHECK PASSED')\n",
    "\n",
    "denstest = (pipe_cell_dens_part_flat==pipe_cell_dens)\n",
    "if False in denstest:\n",
    "    print('DENS CHECK FAILED: DENSITIES ARE NOT IDENTICAL')\n",
    "else:\n",
    "    print('DENS CHECK PASSED')\n",
    "    \n",
    "elabtest = (pipe_cell_elab_part_flat==pipe_cell_elab)\n",
    "if False in elabtest:\n",
    "    print('ELAB CHECK FAILED: ELECTRONABUNDANCES ARE NOT IDENTICAL')\n",
    "else:\n",
    "    print('ELAB CHECK PASSED')\n",
    "    \n",
    "sfrtest = (pipe_cell_sfr_part_flat==pipe_cell_sfr)\n",
    "if False in sfrtest:\n",
    "    print('SFR CHECK FAILED: STAR FORMATION RATES ARE NOT IDENTICAL')\n",
    "else:\n",
    "    print('SFR CHECK PASSED')\n",
    "\n",
    "darktest = (pipe_cell_dark_part_flat==pipe_cell_dark)\n",
    "if False in darktest:\n",
    "    print('DARK CHECK FAILED: DARK MATTER DENSITIES ARE NOT IDENTICAL')\n",
    "else:\n",
    "    print('DARK CHECK PASSED')\n",
    "    \n",
    "warmtest = (pipe_cell_warm_part_flat==pipe_cell_warm)\n",
    "if False in warmtest:\n",
    "    print('WARM CHECK FAILED: WARM-PHASE GAS MASS FRACTIONS ARE NOT IDENTICAL')\n",
    "else:\n",
    "    print('WARM CHECK PASSED')"
   ]
  },
  {
   "cell_type": "code",
   "execution_count": null,
   "id": "007a83a4",
   "metadata": {},
   "outputs": [],
   "source": []
  }
 ],
 "metadata": {
  "kernelspec": {
   "display_name": "Python 3 (ipykernel)",
   "language": "python",
   "name": "python3"
  },
  "language_info": {
   "codemirror_mode": {
    "name": "ipython",
    "version": 3
   },
   "file_extension": ".py",
   "mimetype": "text/x-python",
   "name": "python",
   "nbconvert_exporter": "python",
   "pygments_lexer": "ipython3",
   "version": "3.7.6"
  }
 },
 "nbformat": 4,
 "nbformat_minor": 5
}
